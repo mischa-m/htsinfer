{
 "cells": [
  {
   "cell_type": "code",
   "execution_count": 8,
   "metadata": {},
   "outputs": [],
   "source": [
    "#https://www.upgrad.com/blog/markov-chain-in-python-tutorial/#Principle_of_Markov_Chain_Markov_Property"
   ]
  },
  {
   "cell_type": "code",
   "execution_count": null,
   "metadata": {},
   "outputs": [],
   "source": [
    "def make_markov_matrix(input_sequence: str) -> np.matrix:\n",
    "    \"\"\"\n",
    "    Returns markov matrix based on the input sequence,\n",
    "\n",
    "          A      T      G      C\n",
    "        A P(AA)  P(AT)  P(AG)  P(AC)\n",
    "        T P(TA)  P(TT)  P(TG)  P(TC)\n",
    "        G P(GA)  P(GT)  P(GG)  P(GC)\n",
    "        C P(CA)  P(CT)  P(CG)  P(CC)\n",
    "\n",
    "        where P(AA) is the probability of A following an A.\n",
    "\n",
    "    Args:\n",
    "        input_sequence: Input sequence.\n",
    "\n",
    "    Returns:\n",
    "        Markov matrix as 4x4 np.matrix with propabilities of nucleotide pairs.\n",
    "\n",
    "    Raises:\n",
    "        ValueError: input_string contains characters other than ATGC.\n",
    "    \"\"\"\n",
    "    pass"
   ]
  },
  {
   "cell_type": "code",
   "execution_count": 3,
   "metadata": {},
   "outputs": [],
   "source": [
    "import numpy as np"
   ]
  },
  {
   "cell_type": "code",
   "execution_count": 90,
   "metadata": {},
   "outputs": [],
   "source": [
    "seq = \"AAATGGCTAGBAGTA\""
   ]
  },
  {
   "cell_type": "code",
   "execution_count": null,
   "metadata": {},
   "outputs": [],
   "source": []
  },
  {
   "cell_type": "code",
   "execution_count": 91,
   "metadata": {},
   "outputs": [],
   "source": [
    "#Issue = with count function from python, overlapping occurences are only counted once: AAA is only counted  once\n",
    "\n",
    "def make_markov_matrix(seq: str):\n",
    "    nucl = [\"A\",\"C\",\"G\",\"T\"]\n",
    "\n",
    "    # Possible nucleotide pairs\n",
    "    comb =  [[\"AA\",\"AC\",\"AG\",\"AT\"],\n",
    "            [\"CA\",\"CC\",\"CG\",\"CT\"],\n",
    "            [\"GA\",\"GC\",\"GG\",\"GT\"],\n",
    "            [\"TA\",\"TC\",\"TG\",\"TT\"]]\n",
    "    result = np.zeros((4,4))\n",
    "    \n",
    "    #count occurence of nucleotide pairs:\n",
    "    for i in range(len(nucl)): #i represents the row \n",
    "        for j in range(len(nucl)): #j represents the column\n",
    "            a = seq.count(comb[i][j])\n",
    "            result[i,j] = a\n",
    "            a = 0\n",
    "            \n",
    "    #convert occurence to probabilities\n",
    "    for i in range(len(nucl)): #i represents the row \n",
    "        tot = np.sum(result[i])\n",
    "        for j in range(len(nucl)): #j represents the column\n",
    "            prob = result[i,j]/tot\n",
    "            result[i,j] = prob\n",
    "            \n",
    "    #check if probabilities are correct\n",
    "    tot = 0\n",
    "    for i in range(len(nucl)): #i represents the row \n",
    "        tot = tot + np.sum(result[i])\n",
    "        if tot == i+1:\n",
    "            d = 0\n",
    "        else: \n",
    "            result = f'Imhonogenous probability distribution for the {nucl[i]} nucleotides'\n",
    "            break\n",
    "\n",
    "    return result\n",
    "        \n",
    "\n",
    "   \n",
    "    \n",
    "    "
   ]
  },
  {
   "cell_type": "code",
   "execution_count": 93,
   "metadata": {},
   "outputs": [],
   "source": [
    "def CountOccurrences(string, substring): \n",
    "  \n",
    "    # Initialize count and start to 0 \n",
    "    count = 0\n",
    "    start = 0\n",
    "  \n",
    "    # Search through the string till \n",
    "    # we reach the end of it \n",
    "    while start < len(string): \n",
    "  \n",
    "        # Check if a substring is present from \n",
    "        # 'start' position till the end \n",
    "        pos = string.find(substring, start) \n",
    "  \n",
    "        if pos != -1: \n",
    "            # If a substring is present, move 'start' to \n",
    "            # the next position from start of the substring \n",
    "            start = pos + 1\n",
    "  \n",
    "            # Increment the count \n",
    "            count += 1\n",
    "        else: \n",
    "            # If no further substring is present \n",
    "            break\n",
    "    # return the value of count \n",
    "    return count "
   ]
  },
  {
   "cell_type": "code",
   "execution_count": 107,
   "metadata": {},
   "outputs": [],
   "source": [
    "#uses countoccurences function - found on google- to count overlapping occurences\n",
    "\n",
    "def make_markov_matrix2(seq: str):\n",
    "    nucl = [\"A\",\"C\",\"G\",\"T\"]\n",
    "\n",
    "    # Possible nucleotide pairs\n",
    "    comb =  [[\"AA\",\"AC\",\"AG\",\"AT\"],\n",
    "            [\"CA\",\"CC\",\"CG\",\"CT\"],\n",
    "            [\"GA\",\"GC\",\"GG\",\"GT\"],\n",
    "            [\"TA\",\"TC\",\"TG\",\"TT\"]]\n",
    "    result = np.zeros((4,4))\n",
    "    \n",
    "    #count occurence of nucleotide pairs:\n",
    "    for i in range(len(nucl)): #i represents the row \n",
    "        for j in range(len(nucl)): #j represents the column\n",
    "            a = CountOccurrences(seq, comb[i][j])\n",
    "            result[i,j] = a\n",
    "\n",
    "            a = 0\n",
    "            \n",
    "    #convert occurence to probabilities\n",
    "    for i in range(len(nucl)): #i represents the row \n",
    "        tot = np.sum(result[i])\n",
    "        for j in range(len(nucl)): #j represents the column\n",
    "            prob = result[i,j]/tot\n",
    "            result[i,j] = prob\n",
    "            \n",
    "    #check if probabilities are correct\n",
    "    tot = 0\n",
    "    for i in range(len(nucl)): #i represents the row \n",
    "        tot = tot + np.sum(result[i])\n",
    "        if tot == i+1:\n",
    "            d = 0\n",
    "        else: \n",
    "            result = f'Imhonogenous probability distribution for the {nucl[i]} nucleotides'\n",
    "            break\n",
    "\n",
    "    return result\n",
    "        \n",
    "\n",
    "   \n",
    "    \n",
    "    "
   ]
  },
  {
   "cell_type": "code",
   "execution_count": 108,
   "metadata": {},
   "outputs": [
    {
     "name": "stdout",
     "output_type": "stream",
     "text": [
      "[[0.4        0.         0.4        0.2       ]\n",
      " [0.         0.         0.         1.        ]\n",
      " [0.         0.33333333 0.33333333 0.33333333]\n",
      " [0.66666667 0.         0.33333333 0.        ]]\n"
     ]
    }
   ],
   "source": [
    "b = make_markov_matrix2(seq)\n",
    "print(b)"
   ]
  },
  {
   "cell_type": "code",
   "execution_count": null,
   "metadata": {},
   "outputs": [],
   "source": []
  }
 ],
 "metadata": {
  "kernelspec": {
   "display_name": "Python 3",
   "language": "python",
   "name": "python3"
  },
  "language_info": {
   "codemirror_mode": {
    "name": "ipython",
    "version": 3
   },
   "file_extension": ".py",
   "mimetype": "text/x-python",
   "name": "python",
   "nbconvert_exporter": "python",
   "pygments_lexer": "ipython3",
   "version": "3.7.3"
  }
 },
 "nbformat": 4,
 "nbformat_minor": 2
}
