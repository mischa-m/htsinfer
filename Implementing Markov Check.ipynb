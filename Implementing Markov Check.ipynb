{
 "cells": [
  {
   "cell_type": "code",
   "execution_count": 44,
   "metadata": {},
   "outputs": [],
   "source": [
    "\"\"\"\n",
    "Adjusted functions: make markov matrix (now includes a section to define a base probability)\n",
    "\"\"\"\n",
    "\n",
    "def make_markov_matrix(seq: str):\n",
    "    \"\"\"\n",
    "    Returns markov matrix based on the input sequence,\n",
    "          A      T      G      C\n",
    "        A P(AA)  P(AT)  P(AG)  P(AC)\n",
    "        T P(TA)  P(TT)  P(TG)  P(TC)\n",
    "        G P(GA)  P(GT)  P(GG)  P(GC)\n",
    "        C P(CA)  P(CT)  P(CG)  P(CC)\n",
    "        where P(AA) is the probability of A following an A.\n",
    "    Args:\n",
    "        input_sequence: Input sequence.\n",
    "    Returns:\n",
    "        Markov matrix as 4x4 np.matrix with propabilities of nucleotide pairs.\n",
    "    Raises:\n",
    "        ValueError: input_string contains characters other than ATGC.\n",
    "    \"\"\"\n",
    "    nucl = [\"A\",\"C\",\"G\",\"T\"]\n",
    "    basefrequency = 0.01 #Base frequency to avoid a 0 occurence\n",
    "\n",
    "    # Possible nucleotide pairs\n",
    "    comb =  [[\"AA\",\"AC\",\"AG\",\"AT\"],\n",
    "            [\"CA\",\"CC\",\"CG\",\"CT\"],\n",
    "            [\"GA\",\"GC\",\"GG\",\"GT\"],\n",
    "            [\"TA\",\"TC\",\"TG\",\"TT\"]]\n",
    "    result = np.zeros((4,4))\n",
    "    basefrequency = 0.01 #base frequency of nucleotide pairs if the probability is zero\n",
    "    \n",
    "    #count occurence of nucleotide pairs:\n",
    "\n",
    "    for i in range(len(nucl)): #i represents the row \n",
    "        for j in range(len(nucl)): #j represents the column\n",
    "            a = CountOccurrences(seq, comb[i][j])\n",
    "            result[i,j] += a\n",
    "            a = 0\n",
    "    \n",
    "    #convert occurence to probabilities\n",
    "    for i in range(len(nucl)): #i represents the row \n",
    "        tot = np.sum(result[i])\n",
    "        for j in range(len(nucl)): #j represents the column\n",
    "            prob = result[i,j]/tot\n",
    "            if prob == 0:\n",
    "                result[i,j] = basefrequency\n",
    "            else:\n",
    "                result[i,j] = prob\n",
    "\n",
    "    #Taking care of nucleotide results if they did not occur: replace NaN with base occurence frequency\n",
    "    result[np.isnan(result)] = basefrequency\n",
    "    \"\"\"        \n",
    "    #check if probabilities are correct\n",
    "    #should not really be implemented, because it can occur that a nucleotide does not occur -> check is way off\n",
    "    tot = 0\n",
    "    for i in range(len(nucl)): #i represents the row \n",
    "        tot = tot + np.sum(result[i])\n",
    "        if 0.98 < tot< i+1.03:\n",
    "            d = 0\n",
    "        else: \n",
    "            result = f'Imhonogenous probability distribution for the {nucl[i]} nucleotides'\n",
    "            break\n",
    "            \n",
    "    \"\"\"\n",
    "            \n",
    "\n",
    "    return result"
   ]
  },
  {
   "cell_type": "code",
   "execution_count": null,
   "metadata": {},
   "outputs": [],
   "source": []
  },
  {
   "cell_type": "code",
   "execution_count": 37,
   "metadata": {},
   "outputs": [],
   "source": []
  },
  {
   "cell_type": "code",
   "execution_count": null,
   "metadata": {},
   "outputs": [],
   "source": []
  },
  {
   "cell_type": "code",
   "execution_count": null,
   "metadata": {},
   "outputs": [],
   "source": []
  },
  {
   "cell_type": "code",
   "execution_count": null,
   "metadata": {},
   "outputs": [],
   "source": []
  }
 ],
 "metadata": {
  "kernelspec": {
   "display_name": "Python 3",
   "language": "python",
   "name": "python3"
  },
  "language_info": {
   "codemirror_mode": {
    "name": "ipython",
    "version": 3
   },
   "file_extension": ".py",
   "mimetype": "text/x-python",
   "name": "python",
   "nbconvert_exporter": "python",
   "pygments_lexer": "ipython3",
   "version": "3.7.3"
  }
 },
 "nbformat": 4,
 "nbformat_minor": 2
}
